{
 "cells": [
  {
   "cell_type": "markdown",
   "id": "25d7736c-ba17-4aff-b6bb-66eba20fbf4e",
   "metadata": {},
   "source": [
    "# Lab | Pandas"
   ]
  },
  {
   "cell_type": "markdown",
   "id": "d1973e9e-8be6-4039-b70e-d73ee0d94c99",
   "metadata": {},
   "source": [
    "In this lab, we will be working with the customer data from an insurance company, which can be found in the CSV file located at the following link: https://raw.githubusercontent.com/data-bootcamp-v4/data/main/file1.csv\n",
    "\n",
    "The data includes information such as customer ID, state, gender, education, income, and other variables that can be used to perform various analyses.\n",
    "\n",
    "Throughout the lab, we will be using the pandas library in Python to manipulate and analyze the data. Pandas is a powerful library that provides various data manipulation and analysis tools, including the ability to load and manipulate data from a variety of sources, including CSV files."
   ]
  },
  {
   "cell_type": "markdown",
   "id": "8045146f-f4f7-44d9-8cd9-130d6400c73a",
   "metadata": {},
   "source": [
    "### Data Description\n",
    "\n",
    "- Customer - Customer ID\n",
    "\n",
    "- ST - State where customers live\n",
    "\n",
    "- Gender - Gender of the customer\n",
    "\n",
    "- Education - Background education of customers \n",
    "\n",
    "- Customer Lifetime Value - Customer lifetime value(CLV) is the total revenue the client will derive from their entire relationship with a customer. In other words, is the predicted or calculated value of a customer over their entire duration as a policyholder with the insurance company. It is an estimation of the net profit that the insurance company expects to generate from a customer throughout their relationship with the company. Customer Lifetime Value takes into account factors such as the duration of the customer's policy, premium payments, claim history, renewal likelihood, and potential additional services or products the customer may purchase. It helps insurers assess the long-term profitability and value associated with retaining a particular customer.\n",
    "\n",
    "- Income - Customers income\n",
    "\n",
    "- Monthly Premium Auto - Amount of money the customer pays on a monthly basis as a premium for their auto insurance coverage. It represents the recurring cost that the insured person must pay to maintain their insurance policy and receive coverage for potential damages, accidents, or other covered events related to their vehicle.\n",
    "\n",
    "- Number of Open Complaints - Number of complaints the customer opened\n",
    "\n",
    "- Policy Type - There are three type of policies in car insurance (Corporate Auto, Personal Auto, and Special Auto)\n",
    "\n",
    "- Vehicle Class - Type of vehicle classes that customers have Two-Door Car, Four-Door Car SUV, Luxury SUV, Sports Car, and Luxury Car\n",
    "\n",
    "- Total Claim Amount - the sum of all claims made by the customer. It represents the total monetary value of all approved claims for incidents such as accidents, theft, vandalism, or other covered events.\n"
   ]
  },
  {
   "cell_type": "markdown",
   "id": "3a72419b-20fc-4905-817a-8c83abc59de6",
   "metadata": {},
   "source": [
    "External Resources: https://towardsdatascience.com/filtering-data-frames-in-pandas-b570b1f834b9"
   ]
  },
  {
   "cell_type": "markdown",
   "id": "8f8ece17-e919-4e23-96c0-c7c59778436a",
   "metadata": {},
   "source": [
    "## Challenge 1: Understanding the data\n",
    "\n",
    "In this challenge, you will use pandas to explore a given dataset. Your task is to gain a deep understanding of the data by analyzing its characteristics, dimensions, and statistical properties."
   ]
  },
  {
   "cell_type": "markdown",
   "id": "91437bd5-59a6-49c0-8150-ef0e6e6eb253",
   "metadata": {},
   "source": [
    "- Identify the dimensions of the dataset by determining the number of rows and columns it contains.\n",
    "- Determine the data types of each column and evaluate whether they are appropriate for the nature of the variable. You should also provide suggestions for fixing any incorrect data types.\n",
    "- Identify the number of unique values for each column and determine which columns appear to be categorical. You should also describe the unique values of each categorical column and the range of values for numerical columns, and give your insights.\n",
    "- Compute summary statistics such as mean, median, mode, standard deviation, and quartiles to understand the central tendency and distribution of the data for numerical columns. You should also provide your conclusions based on these summary statistics.\n",
    "- Compute summary statistics for categorical columns and providing your conclusions based on these statistics."
   ]
  },
  {
   "cell_type": "code",
   "execution_count": 2,
   "id": "dd4e8cd8-a6f6-486c-a5c4-1745b0c035f4",
   "metadata": {},
   "outputs": [],
   "source": [
    "# Your code here\n",
    "import numpy as np\n",
    "import pandas as pd  "
   ]
  },
  {
   "cell_type": "code",
   "execution_count": 3,
   "id": "1cafbea8",
   "metadata": {},
   "outputs": [
    {
     "name": "stdout",
     "output_type": "stream",
     "text": [
      "The variable type of file1 is:  <class 'pandas.core.frame.DataFrame'>\n",
      "\n",
      "This is the size of your pandas DataFrame:  (4008, 11)\n",
      "In other words, your DataFrame has 4008 rows and 11 columns\n"
     ]
    }
   ],
   "source": [
    "data = pd.read_csv('https://raw.githubusercontent.com/data-bootcamp-v4/data/main/file1.csv')\n",
    "print(\"The variable type of file1 is: \",type(data))\n",
    "print()\n",
    "\n",
    "print(\"This is the size of your pandas DataFrame: \",data.shape)\n",
    "print(\"In other words, your DataFrame has {} rows and {} columns\".format(data.shape[0], data.shape[1]))"
   ]
  },
  {
   "cell_type": "code",
   "execution_count": 8,
   "id": "72aff1a0",
   "metadata": {},
   "outputs": [
    {
     "data": {
      "text/plain": [
       "Index(['Customer', 'ST', 'GENDER', 'Education', 'Customer Lifetime Value',\n",
       "       'Income', 'Monthly Premium Auto', 'Number of Open Complaints',\n",
       "       'Policy Type', 'Vehicle Class', 'Total Claim Amount'],\n",
       "      dtype='object')"
      ]
     },
     "execution_count": 8,
     "metadata": {},
     "output_type": "execute_result"
    }
   ],
   "source": [
    "data.columns"
   ]
  },
  {
   "cell_type": "code",
   "execution_count": 9,
   "id": "dce1c35f",
   "metadata": {},
   "outputs": [
    {
     "data": {
      "text/html": [
       "<div>\n",
       "<style scoped>\n",
       "    .dataframe tbody tr th:only-of-type {\n",
       "        vertical-align: middle;\n",
       "    }\n",
       "\n",
       "    .dataframe tbody tr th {\n",
       "        vertical-align: top;\n",
       "    }\n",
       "\n",
       "    .dataframe thead th {\n",
       "        text-align: right;\n",
       "    }\n",
       "</style>\n",
       "<table border=\"1\" class=\"dataframe\">\n",
       "  <thead>\n",
       "    <tr style=\"text-align: right;\">\n",
       "      <th></th>\n",
       "      <th>Customer</th>\n",
       "      <th>ST</th>\n",
       "      <th>GENDER</th>\n",
       "      <th>Education</th>\n",
       "      <th>Customer Lifetime Value</th>\n",
       "      <th>Income</th>\n",
       "      <th>Monthly Premium Auto</th>\n",
       "      <th>Number of Open Complaints</th>\n",
       "      <th>Policy Type</th>\n",
       "      <th>Vehicle Class</th>\n",
       "      <th>Total Claim Amount</th>\n",
       "    </tr>\n",
       "  </thead>\n",
       "  <tbody>\n",
       "    <tr>\n",
       "      <th>0</th>\n",
       "      <td>RB50392</td>\n",
       "      <td>Washington</td>\n",
       "      <td>NaN</td>\n",
       "      <td>Master</td>\n",
       "      <td>NaN</td>\n",
       "      <td>0.0</td>\n",
       "      <td>1000.0</td>\n",
       "      <td>1/0/00</td>\n",
       "      <td>Personal Auto</td>\n",
       "      <td>Four-Door Car</td>\n",
       "      <td>2.704934</td>\n",
       "    </tr>\n",
       "    <tr>\n",
       "      <th>1</th>\n",
       "      <td>QZ44356</td>\n",
       "      <td>Arizona</td>\n",
       "      <td>F</td>\n",
       "      <td>Bachelor</td>\n",
       "      <td>697953.59%</td>\n",
       "      <td>0.0</td>\n",
       "      <td>94.0</td>\n",
       "      <td>1/0/00</td>\n",
       "      <td>Personal Auto</td>\n",
       "      <td>Four-Door Car</td>\n",
       "      <td>1131.464935</td>\n",
       "    </tr>\n",
       "    <tr>\n",
       "      <th>2</th>\n",
       "      <td>AI49188</td>\n",
       "      <td>Nevada</td>\n",
       "      <td>F</td>\n",
       "      <td>Bachelor</td>\n",
       "      <td>1288743.17%</td>\n",
       "      <td>48767.0</td>\n",
       "      <td>108.0</td>\n",
       "      <td>1/0/00</td>\n",
       "      <td>Personal Auto</td>\n",
       "      <td>Two-Door Car</td>\n",
       "      <td>566.472247</td>\n",
       "    </tr>\n",
       "    <tr>\n",
       "      <th>3</th>\n",
       "      <td>WW63253</td>\n",
       "      <td>California</td>\n",
       "      <td>M</td>\n",
       "      <td>Bachelor</td>\n",
       "      <td>764586.18%</td>\n",
       "      <td>0.0</td>\n",
       "      <td>106.0</td>\n",
       "      <td>1/0/00</td>\n",
       "      <td>Corporate Auto</td>\n",
       "      <td>SUV</td>\n",
       "      <td>529.881344</td>\n",
       "    </tr>\n",
       "    <tr>\n",
       "      <th>4</th>\n",
       "      <td>GA49547</td>\n",
       "      <td>Washington</td>\n",
       "      <td>M</td>\n",
       "      <td>High School or Below</td>\n",
       "      <td>536307.65%</td>\n",
       "      <td>36357.0</td>\n",
       "      <td>68.0</td>\n",
       "      <td>1/0/00</td>\n",
       "      <td>Personal Auto</td>\n",
       "      <td>Four-Door Car</td>\n",
       "      <td>17.269323</td>\n",
       "    </tr>\n",
       "  </tbody>\n",
       "</table>\n",
       "</div>"
      ],
      "text/plain": [
       "  Customer          ST GENDER             Education Customer Lifetime Value  \\\n",
       "0  RB50392  Washington    NaN                Master                     NaN   \n",
       "1  QZ44356     Arizona      F              Bachelor              697953.59%   \n",
       "2  AI49188      Nevada      F              Bachelor             1288743.17%   \n",
       "3  WW63253  California      M              Bachelor              764586.18%   \n",
       "4  GA49547  Washington      M  High School or Below              536307.65%   \n",
       "\n",
       "    Income  Monthly Premium Auto Number of Open Complaints     Policy Type  \\\n",
       "0      0.0                1000.0                    1/0/00   Personal Auto   \n",
       "1      0.0                  94.0                    1/0/00   Personal Auto   \n",
       "2  48767.0                 108.0                    1/0/00   Personal Auto   \n",
       "3      0.0                 106.0                    1/0/00  Corporate Auto   \n",
       "4  36357.0                  68.0                    1/0/00   Personal Auto   \n",
       "\n",
       "   Vehicle Class  Total Claim Amount  \n",
       "0  Four-Door Car            2.704934  \n",
       "1  Four-Door Car         1131.464935  \n",
       "2   Two-Door Car          566.472247  \n",
       "3            SUV          529.881344  \n",
       "4  Four-Door Car           17.269323  "
      ]
     },
     "metadata": {},
     "output_type": "display_data"
    }
   ],
   "source": [
    "display(data.head())"
   ]
  },
  {
   "cell_type": "code",
   "execution_count": 10,
   "id": "3e0f1230",
   "metadata": {},
   "outputs": [
    {
     "data": {
      "text/html": [
       "<div>\n",
       "<style scoped>\n",
       "    .dataframe tbody tr th:only-of-type {\n",
       "        vertical-align: middle;\n",
       "    }\n",
       "\n",
       "    .dataframe tbody tr th {\n",
       "        vertical-align: top;\n",
       "    }\n",
       "\n",
       "    .dataframe thead th {\n",
       "        text-align: right;\n",
       "    }\n",
       "</style>\n",
       "<table border=\"1\" class=\"dataframe\">\n",
       "  <thead>\n",
       "    <tr style=\"text-align: right;\">\n",
       "      <th></th>\n",
       "      <th>Customer</th>\n",
       "      <th>ST</th>\n",
       "      <th>GENDER</th>\n",
       "      <th>Education</th>\n",
       "      <th>Customer Lifetime Value</th>\n",
       "      <th>Income</th>\n",
       "      <th>Monthly Premium Auto</th>\n",
       "      <th>Number of Open Complaints</th>\n",
       "      <th>Policy Type</th>\n",
       "      <th>Vehicle Class</th>\n",
       "      <th>Total Claim Amount</th>\n",
       "    </tr>\n",
       "  </thead>\n",
       "  <tbody>\n",
       "    <tr>\n",
       "      <th>4003</th>\n",
       "      <td>NaN</td>\n",
       "      <td>NaN</td>\n",
       "      <td>NaN</td>\n",
       "      <td>NaN</td>\n",
       "      <td>NaN</td>\n",
       "      <td>NaN</td>\n",
       "      <td>NaN</td>\n",
       "      <td>NaN</td>\n",
       "      <td>NaN</td>\n",
       "      <td>NaN</td>\n",
       "      <td>NaN</td>\n",
       "    </tr>\n",
       "    <tr>\n",
       "      <th>4004</th>\n",
       "      <td>NaN</td>\n",
       "      <td>NaN</td>\n",
       "      <td>NaN</td>\n",
       "      <td>NaN</td>\n",
       "      <td>NaN</td>\n",
       "      <td>NaN</td>\n",
       "      <td>NaN</td>\n",
       "      <td>NaN</td>\n",
       "      <td>NaN</td>\n",
       "      <td>NaN</td>\n",
       "      <td>NaN</td>\n",
       "    </tr>\n",
       "    <tr>\n",
       "      <th>4005</th>\n",
       "      <td>NaN</td>\n",
       "      <td>NaN</td>\n",
       "      <td>NaN</td>\n",
       "      <td>NaN</td>\n",
       "      <td>NaN</td>\n",
       "      <td>NaN</td>\n",
       "      <td>NaN</td>\n",
       "      <td>NaN</td>\n",
       "      <td>NaN</td>\n",
       "      <td>NaN</td>\n",
       "      <td>NaN</td>\n",
       "    </tr>\n",
       "    <tr>\n",
       "      <th>4006</th>\n",
       "      <td>NaN</td>\n",
       "      <td>NaN</td>\n",
       "      <td>NaN</td>\n",
       "      <td>NaN</td>\n",
       "      <td>NaN</td>\n",
       "      <td>NaN</td>\n",
       "      <td>NaN</td>\n",
       "      <td>NaN</td>\n",
       "      <td>NaN</td>\n",
       "      <td>NaN</td>\n",
       "      <td>NaN</td>\n",
       "    </tr>\n",
       "    <tr>\n",
       "      <th>4007</th>\n",
       "      <td>NaN</td>\n",
       "      <td>NaN</td>\n",
       "      <td>NaN</td>\n",
       "      <td>NaN</td>\n",
       "      <td>NaN</td>\n",
       "      <td>NaN</td>\n",
       "      <td>NaN</td>\n",
       "      <td>NaN</td>\n",
       "      <td>NaN</td>\n",
       "      <td>NaN</td>\n",
       "      <td>NaN</td>\n",
       "    </tr>\n",
       "  </tbody>\n",
       "</table>\n",
       "</div>"
      ],
      "text/plain": [
       "     Customer   ST GENDER Education Customer Lifetime Value  Income  \\\n",
       "4003      NaN  NaN    NaN       NaN                     NaN     NaN   \n",
       "4004      NaN  NaN    NaN       NaN                     NaN     NaN   \n",
       "4005      NaN  NaN    NaN       NaN                     NaN     NaN   \n",
       "4006      NaN  NaN    NaN       NaN                     NaN     NaN   \n",
       "4007      NaN  NaN    NaN       NaN                     NaN     NaN   \n",
       "\n",
       "      Monthly Premium Auto Number of Open Complaints Policy Type  \\\n",
       "4003                   NaN                       NaN         NaN   \n",
       "4004                   NaN                       NaN         NaN   \n",
       "4005                   NaN                       NaN         NaN   \n",
       "4006                   NaN                       NaN         NaN   \n",
       "4007                   NaN                       NaN         NaN   \n",
       "\n",
       "     Vehicle Class  Total Claim Amount  \n",
       "4003           NaN                 NaN  \n",
       "4004           NaN                 NaN  \n",
       "4005           NaN                 NaN  \n",
       "4006           NaN                 NaN  \n",
       "4007           NaN                 NaN  "
      ]
     },
     "metadata": {},
     "output_type": "display_data"
    }
   ],
   "source": [
    "display(data.tail())"
   ]
  },
  {
   "cell_type": "code",
   "execution_count": 11,
   "id": "63063083",
   "metadata": {},
   "outputs": [
    {
     "name": "stdout",
     "output_type": "stream",
     "text": [
      "Current Data Types:\n",
      "Customer                      object\n",
      "ST                            object\n",
      "GENDER                        object\n",
      "Education                     object\n",
      "Customer Lifetime Value       object\n",
      "Income                       float64\n",
      "Monthly Premium Auto         float64\n",
      "Number of Open Complaints     object\n",
      "Policy Type                   object\n",
      "Vehicle Class                 object\n",
      "Total Claim Amount           float64\n",
      "dtype: object\n",
      "Column 'Customer' is of type 'object'. Consider converting it to the appropriate data type.\n",
      "Column 'ST' is of type 'object'. Consider converting it to the appropriate data type.\n",
      "Column 'GENDER' is of type 'object'. Consider converting it to the appropriate data type.\n",
      "Column 'Education' is of type 'object'. Consider converting it to the appropriate data type.\n",
      "Column 'Customer Lifetime Value' is of type 'object'. Consider converting it to the appropriate data type.\n",
      "Column 'Number of Open Complaints' is of type 'object'. Consider converting it to the appropriate data type.\n",
      "Column 'Policy Type' is of type 'object'. Consider converting it to the appropriate data type.\n",
      "Column 'Vehicle Class' is of type 'object'. Consider converting it to the appropriate data type.\n"
     ]
    }
   ],
   "source": [
    "df = pd.DataFrame(data)\n",
    "current_data_types = df.dtypes\n",
    "\n",
    "# Print the current data types\n",
    "print(\"Current Data Types:\")\n",
    "print(current_data_types)\n",
    "\n",
    "# Evaluate and suggest changes if needed\n",
    "for column_name, dtype in current_data_types.items():\n",
    "    if dtype == 'object':\n",
    "        print(\"Column '\"+ column_name +\"' is of type 'object'. Consider converting it to the appropriate data type.\")"
   ]
  },
  {
   "cell_type": "code",
   "execution_count": 12,
   "id": "5d9ff7ba",
   "metadata": {},
   "outputs": [
    {
     "name": "stdout",
     "output_type": "stream",
     "text": [
      "Unique values in \"ST\": ['Washington' 'Arizona' 'Nevada' 'California' 'Oregon' 'Cali' 'AZ' 'WA'\n",
      " nan]\n",
      "Unique values in \"GENDER\": [nan 'F' 'M' 'Femal' 'Male' 'female']\n",
      "Unique values in \"Education\": ['Master' 'Bachelor' 'High School or Below' 'College' 'Bachelors' 'Doctor'\n",
      " nan]\n",
      "Unique values in \"Number of Open Complaints\": ['1/0/00' '1/2/00' '1/1/00' '1/3/00' '1/5/00' '1/4/00' nan]\n",
      "Unique values in \"Policy Type\": ['Personal Auto' 'Corporate Auto' 'Special Auto' nan]\n",
      "Unique values in \"Vehicle Class\": ['Four-Door Car' 'Two-Door Car' 'SUV' 'Luxury SUV' 'Sports Car'\n",
      " 'Luxury Car' nan]\n",
      "Summary Statistics for Numerical Columns:\n",
      "             Income  Monthly Premium Auto  Total Claim Amount\n",
      "count   1071.000000           1071.000000         1071.000000\n",
      "mean   39295.701214            193.234360          404.986909\n",
      "std    30469.427060           1601.190369          293.027260\n",
      "min        0.000000             61.000000            0.382107\n",
      "25%    14072.000000             68.000000          202.157702\n",
      "50%    36234.000000             83.000000          354.729129\n",
      "75%    64631.000000            109.500000          532.800000\n",
      "max    99960.000000          35354.000000         2893.239678\n",
      "Insights:\n",
      "1. Categorical Columns: ['ST', 'GENDER', 'Education', 'Number of Open Complaints', 'Policy Type', 'Vehicle Class']\n",
      "2. Numerical Columns: Index(['Customer', 'Customer Lifetime Value', 'Income', 'Monthly Premium Auto',\n",
      "       'Total Claim Amount'],\n",
      "      dtype='object')\n",
      "3. Number of rows: 4008\n",
      "4. Number of columns: 11\n"
     ]
    }
   ],
   "source": [
    "unique_value_counts = df.nunique()\n",
    "\n",
    "# 2. Determine which columns appear to be categorical (threshold set to 10 unique values)\n",
    "categorical_columns = []\n",
    "for column, unique_count in unique_value_counts.items():\n",
    "    if unique_count <= 10:\n",
    "        categorical_columns.append(column)\n",
    "\n",
    "# 3. Describe unique values of each categorical column\n",
    "for column in categorical_columns:\n",
    "    print('Unique values in \"{}\": {}'.format(column, df[column].unique()))\n",
    "\n",
    "# 4. Describe the range of values for numerical columns\n",
    "numerical_columns = df.columns.difference(categorical_columns)\n",
    "numerical_summary = df[numerical_columns].describe()\n",
    "print(\"Summary Statistics for Numerical Columns:\")\n",
    "print(numerical_summary)\n",
    "\n",
    "# 5. Provide insights \n",
    "print(\"Insights:\")\n",
    "print(\"1. Categorical Columns:\", categorical_columns)\n",
    "print(\"2. Numerical Columns:\", numerical_columns)\n",
    "print(\"3. Number of rows:\", df.shape[0])\n",
    "print(\"4. Number of columns:\", df.shape[1])"
   ]
  },
  {
   "cell_type": "code",
   "execution_count": 13,
   "id": "c461fdb3",
   "metadata": {},
   "outputs": [
    {
     "name": "stdout",
     "output_type": "stream",
     "text": [
      "Summary Statistics for Numerical Columns:\n",
      "             Income  Monthly Premium Auto  Total Claim Amount\n",
      "count   1071.000000           1071.000000         1071.000000\n",
      "mean   39295.701214            193.234360          404.986909\n",
      "std    30469.427060           1601.190369          293.027260\n",
      "min        0.000000             61.000000            0.382107\n",
      "25%    14072.000000             68.000000          202.157702\n",
      "50%    36234.000000             83.000000          354.729129\n",
      "75%    64631.000000            109.500000          532.800000\n",
      "max    99960.000000          35354.000000         2893.239678\n",
      "Mode for Numerical Columns:\n",
      "Customer                           AA71604\n",
      "ST                                  Oregon\n",
      "GENDER                                   F\n",
      "Education                         Bachelor\n",
      "Customer Lifetime Value         251459.20%\n",
      "Income                                 0.0\n",
      "Monthly Premium Auto                  65.0\n",
      "Number of Open Complaints           1/0/00\n",
      "Policy Type                  Personal Auto\n",
      "Vehicle Class                Four-Door Car\n",
      "Total Claim Amount                   321.6\n",
      "Name: 0, dtype: object\n",
      "Conclusions:\n",
      "Income:\n",
      "  Mean: 39295.70121381886\n",
      "  Median: 36234.0\n",
      "  Standard Deviation: 30469.42706040185\n",
      "  Quartiles (25%, 50%, 75%): [14072.0, 36234.0, 64631.0]\n",
      "Monthly Premium Auto:\n",
      "  Mean: 193.234360410831\n",
      "  Median: 83.0\n",
      "  Standard Deviation: 1601.190368577621\n",
      "  Quartiles (25%, 50%, 75%): [68.0, 83.0, 109.5]\n",
      "Total Claim Amount:\n",
      "  Mean: 404.98690940896364\n",
      "  Median: 354.729129\n",
      "  Standard Deviation: 293.0272599264041\n",
      "  Quartiles (25%, 50%, 75%): [202.157702, 354.729129, 532.8]\n"
     ]
    }
   ],
   "source": [
    "# 1. Compute summary statistics for numerical columns\n",
    "numerical_summary = df.describe()\n",
    "\n",
    "# 2. Compute the mode for each numerical column\n",
    "mode_values = df.mode().iloc[0]\n",
    "\n",
    "# 3. Print the summary statistics and mode for each numerical column\n",
    "print(\"Summary Statistics for Numerical Columns:\")\n",
    "print(numerical_summary)\n",
    "\n",
    "print(\"Mode for Numerical Columns:\")\n",
    "print(mode_values)\n",
    "\n",
    "# 4. Provide your conclusions based on the summary statistics\n",
    "print(\"Conclusions:\")\n",
    "for column in numerical_summary.columns:\n",
    "    mean = numerical_summary[column]['mean']\n",
    "    median = numerical_summary[column]['50%']  # 50% is the median\n",
    "    std_dev = numerical_summary[column]['std']\n",
    "    quartiles = [numerical_summary[column]['25%'], median, numerical_summary[column]['75%']]\n",
    "\n",
    "    print(column + \":\")\n",
    "    print(\"  Mean: \" + str(mean))\n",
    "    print(\"  Median: \" + str(median))\n",
    "    print(\"  Standard Deviation: \" + str(std_dev))\n",
    "    print(\"  Quartiles (25%, 50%, 75%): \" + str(quartiles))\n"
   ]
  },
  {
   "cell_type": "code",
   "execution_count": 17,
   "id": "6faca07f",
   "metadata": {},
   "outputs": [
    {
     "name": "stdout",
     "output_type": "stream",
     "text": [
      "Summary Statistics for Categorical Columns:\n",
      "       Customer      ST GENDER Education Customer Lifetime Value  \\\n",
      "count      1071    1071    954      1071                    1068   \n",
      "unique     1071       8      5         6                    1027   \n",
      "top     RB50392  Oregon      F  Bachelor              445811.34%   \n",
      "freq          1     320    457       324                       4   \n",
      "mean        NaN     NaN    NaN       NaN                     NaN   \n",
      "std         NaN     NaN    NaN       NaN                     NaN   \n",
      "min         NaN     NaN    NaN       NaN                     NaN   \n",
      "25%         NaN     NaN    NaN       NaN                     NaN   \n",
      "50%         NaN     NaN    NaN       NaN                     NaN   \n",
      "75%         NaN     NaN    NaN       NaN                     NaN   \n",
      "max         NaN     NaN    NaN       NaN                     NaN   \n",
      "\n",
      "              Income  Monthly Premium Auto Number of Open Complaints  \\\n",
      "count    1071.000000           1071.000000                      1071   \n",
      "unique           NaN                   NaN                         6   \n",
      "top              NaN                   NaN                    1/0/00   \n",
      "freq             NaN                   NaN                       830   \n",
      "mean    39295.701214            193.234360                       NaN   \n",
      "std     30469.427060           1601.190369                       NaN   \n",
      "min         0.000000             61.000000                       NaN   \n",
      "25%     14072.000000             68.000000                       NaN   \n",
      "50%     36234.000000             83.000000                       NaN   \n",
      "75%     64631.000000            109.500000                       NaN   \n",
      "max     99960.000000          35354.000000                       NaN   \n",
      "\n",
      "          Policy Type  Vehicle Class  Total Claim Amount  \n",
      "count            1071           1071         1071.000000  \n",
      "unique              3              6                 NaN  \n",
      "top     Personal Auto  Four-Door Car                 NaN  \n",
      "freq              780            576                 NaN  \n",
      "mean              NaN            NaN          404.986909  \n",
      "std               NaN            NaN          293.027260  \n",
      "min               NaN            NaN            0.382107  \n",
      "25%               NaN            NaN          202.157702  \n",
      "50%               NaN            NaN          354.729129  \n",
      "75%               NaN            NaN          532.800000  \n",
      "max               NaN            NaN         2893.239678  \n",
      "Conclusions:\n",
      "Customer:\n",
      "  Count: 1071\n",
      "  Unique Values: 1071\n",
      "  Most Frequent Value: RB50392\n",
      "  Frequency of Most Frequent Value: 1\n",
      "ST:\n",
      "  Count: 1071\n",
      "  Unique Values: 8\n",
      "  Most Frequent Value: Oregon\n",
      "  Frequency of Most Frequent Value: 320\n",
      "GENDER:\n",
      "  Count: 954\n",
      "  Unique Values: 5\n",
      "  Most Frequent Value: F\n",
      "  Frequency of Most Frequent Value: 457\n",
      "Education:\n",
      "  Count: 1071\n",
      "  Unique Values: 6\n",
      "  Most Frequent Value: Bachelor\n",
      "  Frequency of Most Frequent Value: 324\n",
      "Customer Lifetime Value:\n",
      "  Count: 1068\n",
      "  Unique Values: 1027\n",
      "  Most Frequent Value: 445811.34%\n",
      "  Frequency of Most Frequent Value: 4\n",
      "Income:\n",
      "  Count: 1071.0\n",
      "  Unique Values: nan\n",
      "  Most Frequent Value: nan\n",
      "  Frequency of Most Frequent Value: nan\n",
      "Monthly Premium Auto:\n",
      "  Count: 1071.0\n",
      "  Unique Values: nan\n",
      "  Most Frequent Value: nan\n",
      "  Frequency of Most Frequent Value: nan\n",
      "Number of Open Complaints:\n",
      "  Count: 1071\n",
      "  Unique Values: 6\n",
      "  Most Frequent Value: 1/0/00\n",
      "  Frequency of Most Frequent Value: 830\n",
      "Policy Type:\n",
      "  Count: 1071\n",
      "  Unique Values: 3\n",
      "  Most Frequent Value: Personal Auto\n",
      "  Frequency of Most Frequent Value: 780\n",
      "Vehicle Class:\n",
      "  Count: 1071\n",
      "  Unique Values: 6\n",
      "  Most Frequent Value: Four-Door Car\n",
      "  Frequency of Most Frequent Value: 576\n",
      "Total Claim Amount:\n",
      "  Count: 1071.0\n",
      "  Unique Values: nan\n",
      "  Most Frequent Value: nan\n",
      "  Frequency of Most Frequent Value: nan\n"
     ]
    }
   ],
   "source": [
    "# 1. Compute summary statistics for categorical columns\n",
    "categorical_summary = df.describe(include='all')\n",
    "\n",
    "# 2. Print the summary statistics for categorical columns\n",
    "print(\"Summary Statistics for Categorical Columns:\")\n",
    "print(categorical_summary)\n",
    "\n",
    "# 3. Provide your conclusions based on the summary statistics\n",
    "print(\"Conclusions:\")\n",
    "for column in categorical_summary.columns:\n",
    "    count = categorical_summary[column]['count']\n",
    "    unique_count = categorical_summary[column]['unique']\n",
    "    mode = categorical_summary[column]['top']\n",
    "    mode_freq = categorical_summary[column]['freq']\n",
    "\n",
    "    print(column + \":\")\n",
    "    print(\"  Count: \" + str(count))\n",
    "    print(\"  Unique Values: \" + str(unique_count))\n",
    "    print(\"  Most Frequent Value: \" + str(mode))\n",
    "    print(\"  Frequency of Most Frequent Value: \" + str(mode_freq))"
   ]
  },
  {
   "cell_type": "markdown",
   "id": "4a703890-63db-4944-b7ab-95a4f8185120",
   "metadata": {},
   "source": [
    "## Challenge 2: analyzing the data"
   ]
  },
  {
   "cell_type": "markdown",
   "id": "0776a403-c56a-452f-ac33-5fd4fdb06fc7",
   "metadata": {},
   "source": [
    "### Exercise 1"
   ]
  },
  {
   "cell_type": "markdown",
   "id": "eedbc484-da4d-4f9c-9343-e1d44311a87e",
   "metadata": {},
   "source": [
    "The marketing team wants to know the top 5 less common customer locations. Create a pandas Series object that contains the customer locations and their frequencies, and then retrieve the top 5 less common locations in ascending order."
   ]
  },
  {
   "cell_type": "code",
   "execution_count": 18,
   "id": "2dca5073-4520-4f42-9390-4b92733284ed",
   "metadata": {},
   "outputs": [
    {
     "name": "stdout",
     "output_type": "stream",
     "text": [
      "Top 5 Less Common Customer Locations (in ascending order):\n",
      "AZ             25\n",
      "WA             30\n",
      "Washington     81\n",
      "Nevada         98\n",
      "Cali          120\n",
      "Name: ST, dtype: int64\n"
     ]
    }
   ],
   "source": [
    "# Your code here\n",
    "location_counts = df['ST'].value_counts()\n",
    "\n",
    "# 2. Sort the Series in ascending order (less common locations first)\n",
    "sorted_location_counts = location_counts.sort_values(ascending=True)\n",
    "\n",
    "# 3. Retrieve the top 5 less common locations\n",
    "top_5_less_common = sorted_location_counts.head(5)\n",
    "\n",
    "# 4. Print the top 5 less common locations and their frequencies\n",
    "print(\"Top 5 Less Common Customer Locations (in ascending order):\")\n",
    "print(top_5_less_common)"
   ]
  },
  {
   "cell_type": "markdown",
   "id": "0ce80f43-4afa-43c7-a78a-c917444da4e0",
   "metadata": {},
   "source": [
    "### Exercise 2\n",
    "\n",
    "The sales team wants to know the total number of policies sold for each type of policy. Create a pandas Series object that contains the policy types and their total number of policies sold, and then retrieve the policy type with the highest number of policies sold."
   ]
  },
  {
   "cell_type": "markdown",
   "id": "a9f13997-1555-4f98-aca6-970fda1d2c3f",
   "metadata": {},
   "source": [
    "*Hint:*\n",
    "- *Using value_counts() method simplifies this analysis.*\n",
    "- *Futhermore, there is a method that returns the index of the maximum value in a column or row.*\n"
   ]
  },
  {
   "cell_type": "code",
   "execution_count": 19,
   "id": "bcfad6c1-9af2-4b0b-9aa9-0dc5c17473c0",
   "metadata": {},
   "outputs": [
    {
     "name": "stdout",
     "output_type": "stream",
     "text": [
      "Policy Types and Their Total Number of Policies Sold:\n",
      "Personal Auto     780\n",
      "Corporate Auto    234\n",
      "Special Auto       57\n",
      "Name: Policy Type, dtype: int64\n",
      "Policy Type with the Highest Number of Policies Sold:\n",
      "Personal Auto\n"
     ]
    }
   ],
   "source": [
    "# Your code here\n",
    "# 1. Create a Pandas Series with policy types and their counts\n",
    "policy_counts = df['Policy Type'].value_counts()\n",
    "\n",
    "# 2. Retrieve the policy type with the highest number of policies sold\n",
    "most_sold_policy_type = policy_counts.idxmax()\n",
    "\n",
    "# 3. Print the policy types and their counts\n",
    "print(\"Policy Types and Their Total Number of Policies Sold:\")\n",
    "print(policy_counts)\n",
    "\n",
    "# 4. Print the policy type with the highest number of policies sold\n",
    "print(\"Policy Type with the Highest Number of Policies Sold:\")\n",
    "print(most_sold_policy_type)\n"
   ]
  },
  {
   "cell_type": "markdown",
   "id": "0b863fd3-bf91-4d5d-86eb-be29ed9f5b70",
   "metadata": {},
   "source": [
    "### Exercise 3\n",
    "\n",
    "The sales team wants to know if customers with Personal Auto have a income than those with Corporate Auto. How does the average income compare between the two policy types?"
   ]
  },
  {
   "cell_type": "markdown",
   "id": "b1386d75-2810-4aa1-93e0-9485aa12d552",
   "metadata": {},
   "source": [
    "- Use *loc* to create two dataframes: one containing only Personal Auto policies and one containing only Corporate Auto policies.\n",
    "- Calculate the average income for each policy.\n",
    "- Print the results."
   ]
  },
  {
   "cell_type": "code",
   "execution_count": 21,
   "id": "0c0563cf-6f8b-463d-a321-651a972f82e5",
   "metadata": {},
   "outputs": [
    {
     "name": "stdout",
     "output_type": "stream",
     "text": [
      "Average Income for Personal Auto Policies: 38180.69871794872\n",
      "Average Income for Corporate Auto Policies: 41390.31196581197\n"
     ]
    }
   ],
   "source": [
    "# Your code here\n",
    "personal_auto_df = df.loc[df[\"Policy Type\"]== \"Personal Auto\"]\n",
    "corporate_auto_df = df.loc[df[\"Policy Type\"]== \"Corporate Auto\"]\n",
    "# 2. Calculate the average income for each policy type\n",
    "average_income_personal_auto = personal_auto_df['Income'].mean()\n",
    "average_income_corporate_auto = corporate_auto_df['Income'].mean()\n",
    "\n",
    "# 3. Print the results\n",
    "print(\"Average Income for Personal Auto Policies:\", average_income_personal_auto)\n",
    "print(\"Average Income for Corporate Auto Policies:\", average_income_corporate_auto)"
   ]
  },
  {
   "cell_type": "markdown",
   "id": "80b16c27-f4a5-4727-a229-1f88671cf4e2",
   "metadata": {},
   "source": [
    "### Bonus: Exercise 4\n"
   ]
  },
  {
   "cell_type": "markdown",
   "id": "ac584986-299b-475f-ac2e-928c16c3f512",
   "metadata": {},
   "source": [
    "Your goal is to identify customers with a high policy claim amount.\n",
    "\n",
    "Instructions:\n",
    "\n",
    "- Review again the statistics for total claim amount to gain an understanding of the data.\n",
    "- To identify potential areas for improving customer retention and profitability, we want to focus on customers with a high policy claim amount. Consider customers with a high policy claim amount to be those in the top 25% of the total claim amount. Create a pandas DataFrame object that contains information about customers with a policy claim amount greater than the 75th percentile.\n",
    "- Use DataFrame methods to calculate summary statistics about the high policy claim amount data. "
   ]
  },
  {
   "cell_type": "markdown",
   "id": "4e3af5f1-6023-4b05-9c01-d05392daa650",
   "metadata": {},
   "source": [
    "*Note: When analyzing data, we often want to focus on certain groups of values to gain insights. Percentiles are a useful tool to help us define these groups. A percentile is a measure that tells us what percentage of values in a dataset are below a certain value. For example, the 75th percentile represents the value below which 75% of the data falls. Similarly, the 25th percentile represents the value below which 25% of the data falls. When we talk about the top 25%, we are referring to the values that fall above the 75th percentile, which represent the top quarter of the data. On the other hand, when we talk about the bottom 25%, we are referring to the values that fall below the 25th percentile, which represent the bottom quarter of the data. By focusing on these groups, we can identify patterns and trends that may be useful for making decisions and taking action.*\n",
    "\n",
    "*Hint: look for a method that gives you the percentile or quantile 0.75 and 0.25 for a Pandas Series.*"
   ]
  },
  {
   "cell_type": "markdown",
   "id": "2d234634-50bd-41e0-88f7-d5ba684455d1",
   "metadata": {},
   "source": [
    "*Hint 2: check `Boolean selection according to the values of a single column` in https://towardsdatascience.com/filtering-data-frames-in-pandas-b570b1f834b9*"
   ]
  },
  {
   "cell_type": "code",
   "execution_count": null,
   "id": "b731bca6-a760-4860-a27b-a33efa712ce0",
   "metadata": {},
   "outputs": [],
   "source": [
    "# Your code here"
   ]
  }
 ],
 "metadata": {
  "kernelspec": {
   "display_name": "Python 3 (ipykernel)",
   "language": "python",
   "name": "python3"
  },
  "language_info": {
   "codemirror_mode": {
    "name": "ipython",
    "version": 3
   },
   "file_extension": ".py",
   "mimetype": "text/x-python",
   "name": "python",
   "nbconvert_exporter": "python",
   "pygments_lexer": "ipython3",
   "version": "3.11.4"
  }
 },
 "nbformat": 4,
 "nbformat_minor": 5
}
